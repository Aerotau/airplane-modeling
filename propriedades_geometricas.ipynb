{
    "cells": [
        {
            "cell_type": "code",
            "execution_count": 8,
            "source": [
                "import math"
            ],
            "outputs": [],
            "metadata": {}
        },
        {
            "cell_type": "markdown",
            "source": [
                "# Propriedades geométricas"
            ],
            "metadata": {}
        },
        {
            "cell_type": "markdown",
            "source": [
                "## Cálculo da área da asa:"
            ],
            "metadata": {}
        },
        {
            "cell_type": "markdown",
            "source": [
                "Asa retangular:\r\n",
                "$ S = b \\cdot c $"
            ],
            "metadata": {}
        },
        {
            "cell_type": "code",
            "execution_count": 16,
            "source": [
                "def rectangular_wing_area(b,c):\r\n",
                "    return b*c\r\n",
                "\r\n",
                "rectangular_wing_area(b=3, c=0.5)"
            ],
            "outputs": [
                {
                    "output_type": "execute_result",
                    "data": {
                        "text/plain": [
                            "1.5"
                        ]
                    },
                    "metadata": {},
                    "execution_count": 16
                }
            ],
            "metadata": {}
        },
        {
            "cell_type": "markdown",
            "source": [
                "Asa trapezoidal: $ S=\\dfrac{(c_r + c_t) \\cdot b}{2} $"
            ],
            "metadata": {}
        },
        {
            "cell_type": "code",
            "execution_count": 17,
            "source": [
                "def trapezoidal_wing_area(b, c_r, c_t):\r\n",
                "    return (c_r + c_t * b)/2\r\n",
                "\r\n",
                "trapezoidal_wing_area(b=5, c_r=2, c_t=1)"
            ],
            "outputs": [
                {
                    "output_type": "execute_result",
                    "data": {
                        "text/plain": [
                            "3.5"
                        ]
                    },
                    "metadata": {},
                    "execution_count": 17
                }
            ],
            "metadata": {}
        },
        {
            "cell_type": "markdown",
            "source": [
                "Asa elíptica: $S = \\dfrac {\\pi \\cdot b \\cdot c_r}{4}$"
            ],
            "metadata": {}
        },
        {
            "cell_type": "code",
            "execution_count": 19,
            "source": [
                "def eliptical_wing_area(b,c_r):\r\n",
                "    return math.pi * b * c_r / 4\r\n",
                "    \r\n",
                "eliptic_wing_area(b=2, c_r=0.5)"
            ],
            "outputs": [
                {
                    "output_type": "execute_result",
                    "data": {
                        "text/plain": [
                            "0.7853981633974483"
                        ]
                    },
                    "metadata": {},
                    "execution_count": 19
                }
            ],
            "metadata": {}
        },
        {
            "cell_type": "markdown",
            "source": [
                "## Cálculo do volume de cauda:"
            ],
            "metadata": {}
        },
        {
            "cell_type": "markdown",
            "source": [
                "$ V_{HT} = \\dfrac {l_{HT} \\cdot S_{HT}}{\\overline{c} \\cdot S} $"
            ],
            "metadata": {}
        },
        {
            "cell_type": "code",
            "execution_count": 12,
            "source": [
                "def horizontal_tail_volume(l_HT, S_HT, cbar, S):\r\n",
                "    return l_HT * S_HT/ cbar, S"
            ],
            "outputs": [],
            "metadata": {}
        },
        {
            "cell_type": "markdown",
            "source": [
                "$V_{VT} = \\dfrac {l_{VT} \\cdot S_{VT}}{\\overline{c} \\cdot S}$"
            ],
            "metadata": {}
        },
        {
            "cell_type": "code",
            "execution_count": 13,
            "source": [
                "def vertical_tail_volume(l_HT, S_HT, cbar, S):\r\n",
                "    return l_HT * S_HT/ cbar, S"
            ],
            "outputs": [],
            "metadata": {}
        }
    ],
    "metadata": {
        "orig_nbformat": 4,
        "language_info": {
            "name": "python",
            "version": "3.6.8",
            "mimetype": "text/x-python",
            "codemirror_mode": {
                "name": "ipython",
                "version": 3
            },
            "pygments_lexer": "ipython3",
            "nbconvert_exporter": "python",
            "file_extension": ".py"
        },
        "kernelspec": {
            "name": "python3",
            "display_name": "Python 3.6.8 64-bit ('Python36tensorflow': conda)"
        },
        "interpreter": {
            "hash": "d019251b4921a1cc3a3c97aa30605d4551da6d18440c1c3e577e0ffc2e4bc763"
        }
    },
    "nbformat": 4,
    "nbformat_minor": 2
}