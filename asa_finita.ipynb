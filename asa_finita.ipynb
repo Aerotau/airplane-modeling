{
 "cells": [
  {
   "cell_type": "code",
   "execution_count": 2,
   "source": [
    "import math\r\n",
    "import numpy as np\r\n",
    "import scipy.interpolate"
   ],
   "outputs": [],
   "metadata": {}
  },
  {
   "cell_type": "markdown",
   "source": [
    "# Características de asa finita:"
   ],
   "metadata": {}
  },
  {
   "cell_type": "markdown",
   "source": [
    "Essas são as características de uma asa não ideal. Elas são obtidas através do perfil.\r\n",
    "\r\n",
    "Aqui as características do perfil serão vistas como já definidas.\r\n",
    "Em especial, temos que destacar o coeficiente angular do perfil $a_0$ \r\n",
    "$$ a_0 = \\frac{\\Delta c_l}{\\Delta \\alpha} $$\r\n",
    "\r\n"
   ],
   "metadata": {}
  },
  {
   "cell_type": "markdown",
   "source": [
    "## Asas de alto alongamento (AR>4)"
   ],
   "metadata": {}
  },
  {
   "cell_type": "markdown",
   "source": [
    "Se AR>4:\r\n",
    "\r\n",
    "Deve ser calcullado o fator de arrasto induzido $\\delta$\r\n",
    "\r\n",
    "$\\delta(\\lambda,AR) $"
   ],
   "metadata": {}
  },
  {
   "cell_type": "code",
   "execution_count": 40,
   "source": [
    "def build_delta_lut(file, skip_header=True):\r\n",
    "    lut = np.genfromtxt(file, delimiter='\\t', dtype=float, skip_header=skip_header) #TO DO: use memoization?\r\n",
    "    return lut\r\n",
    "\r\n",
    "delta_lut = build_delta_lut('deltaLUT.tsv')\r\n",
    "delta_lut"
   ],
   "outputs": [
    {
     "output_type": "execute_result",
     "data": {
      "text/plain": [
       "array([[0.0815, 0.0946, 0.1077, ..., 0.1252, 0.1414, 0.1575],\n",
       "       [0.0767, 0.0889, 0.1011, ..., 0.1174, 0.1344, 0.1513],\n",
       "       [0.0705, 0.0825, 0.0944, ..., 0.1093, 0.1274, 0.1455],\n",
       "       ...,\n",
       "       [0.0361, 0.0504, 0.0647, ..., 0.094 , 0.1041, 0.1142],\n",
       "       [0.0367, 0.0511, 0.0654, ..., 0.0948, 0.105 , 0.1152],\n",
       "       [0.037 , 0.0517, 0.0663, ..., 0.0958, 0.1061, 0.1164]])"
      ]
     },
     "metadata": {},
     "execution_count": 40
    }
   ],
   "metadata": {}
  },
  {
   "cell_type": "markdown",
   "source": [
    "Para uma melhor visualização"
   ],
   "metadata": {}
  },
  {
   "cell_type": "code",
   "execution_count": 41,
   "source": [
    "import pandas as pd\r\n",
    "\r\n",
    "table = pd.DataFrame(delta_lut, columns=['AR4', 'AR5', 'AR6', 'AR7', 'AR8', 'AR9', 'AR10'])\r\n",
    "tr = np.arange(0, 1+0.005, 0.005)\r\n",
    "table.insert(0, \"tr\", tr)\r\n",
    "\r\n",
    "display(df[0:15])"
   ],
   "outputs": [
    {
     "output_type": "display_data",
     "data": {
      "text/plain": [
       "       tr     AR4     AR5     AR6     AR7     AR8     AR9    AR10\n",
       "0   0.000  0.0815  0.0946  0.1077  0.1165  0.1252  0.1414  0.1575\n",
       "1   0.005  0.0767  0.0889  0.1011  0.1093  0.1174  0.1344  0.1513\n",
       "2   0.010  0.0705  0.0825  0.0944  0.1019  0.1093  0.1274  0.1455\n",
       "3   0.015  0.0627  0.0761  0.0894  0.0961  0.1028  0.1215  0.1401\n",
       "4   0.020  0.0556  0.0692  0.0827  0.0900  0.0973  0.1161  0.1348\n",
       "5   0.025  0.0514  0.0643  0.0771  0.0842  0.0912  0.1105  0.1297\n",
       "6   0.030  0.0472  0.0597  0.0721  0.0793  0.0865  0.1041  0.1217\n",
       "7   0.035  0.0437  0.0556  0.0674  0.0747  0.0820  0.0992  0.1163\n",
       "8   0.040  0.0402  0.0516  0.0629  0.0701  0.0773  0.0946  0.1118\n",
       "9   0.045  0.0367  0.0474  0.0581  0.0653  0.0724  0.0897  0.1070\n",
       "10  0.050  0.0337  0.0441  0.0545  0.0616  0.0686  0.0854  0.1022\n",
       "11  0.055  0.0320  0.0415  0.0510  0.0579  0.0648  0.0810  0.0971\n",
       "12  0.060  0.0298  0.0390  0.0481  0.0550  0.0618  0.0769  0.0920\n",
       "13  0.065  0.0278  0.0364  0.0449  0.0517  0.0584  0.0733  0.0882\n",
       "14  0.070  0.0256  0.0337  0.0418  0.0484  0.0549  0.0691  0.0832"
      ],
      "text/html": [
       "<div>\n",
       "<style scoped>\n",
       "    .dataframe tbody tr th:only-of-type {\n",
       "        vertical-align: middle;\n",
       "    }\n",
       "\n",
       "    .dataframe tbody tr th {\n",
       "        vertical-align: top;\n",
       "    }\n",
       "\n",
       "    .dataframe thead th {\n",
       "        text-align: right;\n",
       "    }\n",
       "</style>\n",
       "<table border=\"1\" class=\"dataframe\">\n",
       "  <thead>\n",
       "    <tr style=\"text-align: right;\">\n",
       "      <th></th>\n",
       "      <th>tr</th>\n",
       "      <th>AR4</th>\n",
       "      <th>AR5</th>\n",
       "      <th>AR6</th>\n",
       "      <th>AR7</th>\n",
       "      <th>AR8</th>\n",
       "      <th>AR9</th>\n",
       "      <th>AR10</th>\n",
       "    </tr>\n",
       "  </thead>\n",
       "  <tbody>\n",
       "    <tr>\n",
       "      <th>0</th>\n",
       "      <td>0.000</td>\n",
       "      <td>0.0815</td>\n",
       "      <td>0.0946</td>\n",
       "      <td>0.1077</td>\n",
       "      <td>0.1165</td>\n",
       "      <td>0.1252</td>\n",
       "      <td>0.1414</td>\n",
       "      <td>0.1575</td>\n",
       "    </tr>\n",
       "    <tr>\n",
       "      <th>1</th>\n",
       "      <td>0.005</td>\n",
       "      <td>0.0767</td>\n",
       "      <td>0.0889</td>\n",
       "      <td>0.1011</td>\n",
       "      <td>0.1093</td>\n",
       "      <td>0.1174</td>\n",
       "      <td>0.1344</td>\n",
       "      <td>0.1513</td>\n",
       "    </tr>\n",
       "    <tr>\n",
       "      <th>2</th>\n",
       "      <td>0.010</td>\n",
       "      <td>0.0705</td>\n",
       "      <td>0.0825</td>\n",
       "      <td>0.0944</td>\n",
       "      <td>0.1019</td>\n",
       "      <td>0.1093</td>\n",
       "      <td>0.1274</td>\n",
       "      <td>0.1455</td>\n",
       "    </tr>\n",
       "    <tr>\n",
       "      <th>3</th>\n",
       "      <td>0.015</td>\n",
       "      <td>0.0627</td>\n",
       "      <td>0.0761</td>\n",
       "      <td>0.0894</td>\n",
       "      <td>0.0961</td>\n",
       "      <td>0.1028</td>\n",
       "      <td>0.1215</td>\n",
       "      <td>0.1401</td>\n",
       "    </tr>\n",
       "    <tr>\n",
       "      <th>4</th>\n",
       "      <td>0.020</td>\n",
       "      <td>0.0556</td>\n",
       "      <td>0.0692</td>\n",
       "      <td>0.0827</td>\n",
       "      <td>0.0900</td>\n",
       "      <td>0.0973</td>\n",
       "      <td>0.1161</td>\n",
       "      <td>0.1348</td>\n",
       "    </tr>\n",
       "    <tr>\n",
       "      <th>5</th>\n",
       "      <td>0.025</td>\n",
       "      <td>0.0514</td>\n",
       "      <td>0.0643</td>\n",
       "      <td>0.0771</td>\n",
       "      <td>0.0842</td>\n",
       "      <td>0.0912</td>\n",
       "      <td>0.1105</td>\n",
       "      <td>0.1297</td>\n",
       "    </tr>\n",
       "    <tr>\n",
       "      <th>6</th>\n",
       "      <td>0.030</td>\n",
       "      <td>0.0472</td>\n",
       "      <td>0.0597</td>\n",
       "      <td>0.0721</td>\n",
       "      <td>0.0793</td>\n",
       "      <td>0.0865</td>\n",
       "      <td>0.1041</td>\n",
       "      <td>0.1217</td>\n",
       "    </tr>\n",
       "    <tr>\n",
       "      <th>7</th>\n",
       "      <td>0.035</td>\n",
       "      <td>0.0437</td>\n",
       "      <td>0.0556</td>\n",
       "      <td>0.0674</td>\n",
       "      <td>0.0747</td>\n",
       "      <td>0.0820</td>\n",
       "      <td>0.0992</td>\n",
       "      <td>0.1163</td>\n",
       "    </tr>\n",
       "    <tr>\n",
       "      <th>8</th>\n",
       "      <td>0.040</td>\n",
       "      <td>0.0402</td>\n",
       "      <td>0.0516</td>\n",
       "      <td>0.0629</td>\n",
       "      <td>0.0701</td>\n",
       "      <td>0.0773</td>\n",
       "      <td>0.0946</td>\n",
       "      <td>0.1118</td>\n",
       "    </tr>\n",
       "    <tr>\n",
       "      <th>9</th>\n",
       "      <td>0.045</td>\n",
       "      <td>0.0367</td>\n",
       "      <td>0.0474</td>\n",
       "      <td>0.0581</td>\n",
       "      <td>0.0653</td>\n",
       "      <td>0.0724</td>\n",
       "      <td>0.0897</td>\n",
       "      <td>0.1070</td>\n",
       "    </tr>\n",
       "    <tr>\n",
       "      <th>10</th>\n",
       "      <td>0.050</td>\n",
       "      <td>0.0337</td>\n",
       "      <td>0.0441</td>\n",
       "      <td>0.0545</td>\n",
       "      <td>0.0616</td>\n",
       "      <td>0.0686</td>\n",
       "      <td>0.0854</td>\n",
       "      <td>0.1022</td>\n",
       "    </tr>\n",
       "    <tr>\n",
       "      <th>11</th>\n",
       "      <td>0.055</td>\n",
       "      <td>0.0320</td>\n",
       "      <td>0.0415</td>\n",
       "      <td>0.0510</td>\n",
       "      <td>0.0579</td>\n",
       "      <td>0.0648</td>\n",
       "      <td>0.0810</td>\n",
       "      <td>0.0971</td>\n",
       "    </tr>\n",
       "    <tr>\n",
       "      <th>12</th>\n",
       "      <td>0.060</td>\n",
       "      <td>0.0298</td>\n",
       "      <td>0.0390</td>\n",
       "      <td>0.0481</td>\n",
       "      <td>0.0550</td>\n",
       "      <td>0.0618</td>\n",
       "      <td>0.0769</td>\n",
       "      <td>0.0920</td>\n",
       "    </tr>\n",
       "    <tr>\n",
       "      <th>13</th>\n",
       "      <td>0.065</td>\n",
       "      <td>0.0278</td>\n",
       "      <td>0.0364</td>\n",
       "      <td>0.0449</td>\n",
       "      <td>0.0517</td>\n",
       "      <td>0.0584</td>\n",
       "      <td>0.0733</td>\n",
       "      <td>0.0882</td>\n",
       "    </tr>\n",
       "    <tr>\n",
       "      <th>14</th>\n",
       "      <td>0.070</td>\n",
       "      <td>0.0256</td>\n",
       "      <td>0.0337</td>\n",
       "      <td>0.0418</td>\n",
       "      <td>0.0484</td>\n",
       "      <td>0.0549</td>\n",
       "      <td>0.0691</td>\n",
       "      <td>0.0832</td>\n",
       "    </tr>\n",
       "  </tbody>\n",
       "</table>\n",
       "</div>"
      ]
     },
     "metadata": {}
    }
   ],
   "metadata": {}
  },
  {
   "cell_type": "code",
   "execution_count": 4,
   "source": [
    "def build_delta_interpolated_fuction(delta_lut):\r\n",
    "    trs = np.arange(0, 1+0.005, 0.005)\r\n",
    "    ars = np.arange(4,10+1, 1)\r\n",
    "    delta_interpolated_fuction = scipy.interpolate.interp2d(ars, trs, delta_lut, kind='linear')\r\n",
    "    \r\n",
    "    def delta(tr, AR):\r\n",
    "        if tr < 0 or tr > 1:\r\n",
    "            raise ValueError(\"tr must be between 0 and 1\")\r\n",
    "        if AR < 4 or AR > 10:\r\n",
    "            raise ValueError(\"AR must be between 4 and 10\")\r\n",
    "        return float(delta_interpolated_fuction(AR, tr))\r\n",
    "    return delta\r\n",
    "\r\n",
    "delta = build_delta_interpolated_fuction(delta_lut)\r\n",
    "\r\n",
    "delta(0.1, 4)"
   ],
   "outputs": [
    {
     "output_type": "execute_result",
     "data": {
      "text/plain": [
       "0.017"
      ]
     },
     "metadata": {},
     "execution_count": 4
    }
   ],
   "metadata": {}
  },
  {
   "cell_type": "markdown",
   "source": [
    "Fator de eficiencia de Oswald\r\n",
    "\r\n",
    "$e = \\dfrac {1} {1+ \\delta}$"
   ],
   "metadata": {}
  },
  {
   "cell_type": "code",
   "execution_count": 5,
   "source": [
    "def e(tr, AR):\r\n",
    "    return 1/(1+ delta(tr, AR) )"
   ],
   "outputs": [],
   "metadata": {}
  },
  {
   "cell_type": "markdown",
   "source": [
    "$a = \\dfrac{a_0}{1+ (a_0 / \\pi \\cdot e \\cdot AR)}$"
   ],
   "metadata": {}
  },
  {
   "cell_type": "code",
   "execution_count": 6,
   "source": [
    "def high_AR_a(AR, a_0, tr):\r\n",
    "    return a_0 /\\\r\n",
    "        (1 +\\\r\n",
    "            (\r\n",
    "                a_0/(math.pi * e(tr,AR) * AR)\r\n",
    "            )\r\n",
    "        )"
   ],
   "outputs": [],
   "metadata": {}
  },
  {
   "cell_type": "markdown",
   "source": [
    "Para asas de baixo alongamento:\r\n",
    "Se AR ≤ 4\r\n",
    "\r\n",
    "\r\n",
    "$a=\\dfrac{a_0}{{1+\\left(\\dfrac{a_0}{\\pi \\cdot AR}\\right)^2} + \\dfrac{a_0}{\\pi \\cdot AR}}$"
   ],
   "metadata": {}
  },
  {
   "cell_type": "code",
   "execution_count": 7,
   "source": [
    "def low_AR_a(AR, a_0):\r\n",
    "    return a_0 \\\r\n",
    "        /(1 + \\\r\n",
    "            (a_0/(math.pi * AR)**2 + \\\r\n",
    "            a_0/(math.pi * AR) \\\r\n",
    "            )\r\n",
    "        )"
   ],
   "outputs": [],
   "metadata": {}
  },
  {
   "cell_type": "code",
   "execution_count": 8,
   "source": [
    "def a(AR, a_0, tr):\r\n",
    "    if AR>4:\r\n",
    "        return high_AR_a(AR, a_0, tr)\r\n",
    "    if AR <= 4 and AR > 0:\r\n",
    "        return low_AR_a(AR, a_0)\r\n",
    "\r\n",
    "a(5, 3, 1)"
   ],
   "outputs": [
    {
     "output_type": "execute_result",
     "data": {
      "text/plain": [
       "2.498209815365307"
      ]
     },
     "metadata": {},
     "execution_count": 8
    }
   ],
   "metadata": {}
  }
 ],
 "metadata": {
  "orig_nbformat": 4,
  "language_info": {
   "name": "python",
   "version": "3.6.8",
   "mimetype": "text/x-python",
   "codemirror_mode": {
    "name": "ipython",
    "version": 3
   },
   "pygments_lexer": "ipython3",
   "nbconvert_exporter": "python",
   "file_extension": ".py"
  },
  "kernelspec": {
   "name": "python3",
   "display_name": "Python 3.6.8 64-bit ('Python36tensorflow': conda)"
  },
  "interpreter": {
   "hash": "d019251b4921a1cc3a3c97aa30605d4551da6d18440c1c3e577e0ffc2e4bc763"
  }
 },
 "nbformat": 4,
 "nbformat_minor": 2
}