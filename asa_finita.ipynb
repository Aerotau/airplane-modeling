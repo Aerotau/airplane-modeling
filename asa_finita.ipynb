{
 "cells": [
  {
   "cell_type": "code",
   "execution_count": 1,
   "source": [
    "import math\r\n",
    "import numpy as np\r\n",
    "import scipy.interpolate"
   ],
   "outputs": [],
   "metadata": {}
  },
  {
   "cell_type": "markdown",
   "source": [
    "# Características de asa finita:"
   ],
   "metadata": {}
  },
  {
   "cell_type": "markdown",
   "source": [
    "Essas são as características de uma asa não ideal. Elas são obtidas através do perfil.\r\n",
    "\r\n",
    "Aqui as características do perfil serão vistas como já definidas.\r\n",
    "Em especial, temos que destacar o coeficiente angular do perfil $a_0$ \r\n",
    "$$ a_0 = \\frac{\\Delta c_l}{\\Delta \\alpha} $$\r\n",
    "\r\n"
   ],
   "metadata": {}
  },
  {
   "cell_type": "markdown",
   "source": [
    "## Asas de alto alongamento (AR>4)"
   ],
   "metadata": {}
  },
  {
   "cell_type": "markdown",
   "source": [
    "Se AR>4:\r\n",
    "\r\n",
    "$\\delta(\\lambda,AR) $"
   ],
   "metadata": {}
  },
  {
   "cell_type": "code",
   "execution_count": 2,
   "source": [
    "def build_delta_lut(file, skip_header=True):\r\n",
    "    lut = np.genfromtxt(file, delimiter='\\t', dtype=float, skip_header=skip_header) #TO DO: use memoization?\r\n",
    "    return lut\r\n",
    "\r\n",
    "delta_lut = build_delta_lut('deltaLUT.tsv')\r\n",
    "delta_lut[0:5]"
   ],
   "outputs": [
    {
     "output_type": "execute_result",
     "data": {
      "text/plain": [
       "array([[0.0815, 0.0946, 0.1077, 0.1165, 0.1252, 0.1414, 0.1575],\n",
       "       [0.0767, 0.0889, 0.1011, 0.1093, 0.1174, 0.1344, 0.1513],\n",
       "       [0.0705, 0.0825, 0.0944, 0.1019, 0.1093, 0.1274, 0.1455],\n",
       "       [0.0627, 0.0761, 0.0894, 0.0961, 0.1028, 0.1215, 0.1401],\n",
       "       [0.0556, 0.0692, 0.0827, 0.09  , 0.0973, 0.1161, 0.1348]])"
      ]
     },
     "metadata": {},
     "execution_count": 2
    }
   ],
   "metadata": {}
  },
  {
   "cell_type": "code",
   "execution_count": 3,
   "source": [
    "def build_delta_interpolated_fuction(delta_lut):\r\n",
    "    trs = np.arange(0, 1+0.005, 0.005)\r\n",
    "    ars = np.arange(4,10+1, 1)\r\n",
    "\r\n",
    "    delta = scipy.interpolate.interp2d(ars, trs, delta_lut, kind='linear')\r\n",
    "    return delta\r\n",
    "\r\n",
    "delta_interpolated_fuction = build_delta_interpolated_fuction(delta_lut)\r\n",
    "\r\n",
    "def delta(tr, AR, delta_interpolated_fuction):\r\n",
    "    if tr < 0 or tr > 1:\r\n",
    "        raise ValueError(\"tr must be between 0 and 1\")\r\n",
    "    if AR < 4 or AR > 10:\r\n",
    "        raise ValueError(\"AR must be between 4 and 10\")\r\n",
    "    return float(delta_interpolated_fuction(tr, AR))\r\n",
    "\r\n",
    "delta(0, 4, delta_interpolated_fuction)"
   ],
   "outputs": [
    {
     "output_type": "execute_result",
     "data": {
      "text/plain": [
       "0.037"
      ]
     },
     "metadata": {},
     "execution_count": 3
    }
   ],
   "metadata": {}
  },
  {
   "cell_type": "code",
   "execution_count": 4,
   "source": [
    "def delta(tr, AR, delta_lut):\r\n",
    "    trs = np.arange(0, 1+0.005, 0.005)\r\n",
    "    ars = np.arange(4,10+1, 1)\r\n",
    "    return \r\n",
    "\r\n",
    "\r\n",
    "\r\n",
    "trs = np.arange(0, 1+0.005, 0.005)\r\n",
    "ars = np.arange(4,10+1, 1)\r\n",
    "\r\n",
    "delta = scipy.interpolate.interp2d(ars, trs, delta_lut, kind='linear')"
   ],
   "outputs": [],
   "metadata": {}
  },
  {
   "cell_type": "markdown",
   "source": [
    "$e = \\dfrac {1} {1+ \\delta}$"
   ],
   "metadata": {}
  },
  {
   "cell_type": "code",
   "execution_count": 5,
   "source": [
    "def e(tr, AR):\r\n",
    "    return 1/(1+ delta(tr, AR) )"
   ],
   "outputs": [],
   "metadata": {}
  },
  {
   "cell_type": "markdown",
   "source": [
    "$a = \\dfrac{a_0}{1+ (a_0 / \\pi \\cdot e \\cdot AR)}$"
   ],
   "metadata": {}
  },
  {
   "cell_type": "code",
   "execution_count": 6,
   "source": [
    "def high_AR_a(AR, a_0, tr):\r\n",
    "    return a_0 /\\\r\n",
    "        (1 +\\\r\n",
    "            (\r\n",
    "                a_0/(math.pi * e(tr,AR) * AR)\r\n",
    "            )\r\n",
    "        )"
   ],
   "outputs": [],
   "metadata": {}
  },
  {
   "cell_type": "markdown",
   "source": [
    "Para asas de baixo alongamento:\r\n",
    "Se AR ≤ 4\r\n",
    "\r\n",
    "\r\n",
    "$a=\\dfrac{a_0}{{1+\\left(\\dfrac{a_0}{\\pi \\cdot AR}\\right)^2} + \\dfrac{a_0}{\\pi \\cdot AR}}$"
   ],
   "metadata": {}
  },
  {
   "cell_type": "code",
   "execution_count": 7,
   "source": [
    "def low_AR_a(AR, a_0):\r\n",
    "    return a_0 \\\r\n",
    "        /(1 + \\\r\n",
    "            (a_0/(math.pi * AR)**2 + \\\r\n",
    "            a_0/(math.pi * AR) \\\r\n",
    "            )\r\n",
    "        )"
   ],
   "outputs": [],
   "metadata": {}
  },
  {
   "cell_type": "code",
   "execution_count": 8,
   "source": [
    "def a(AR, a_0, tr):\r\n",
    "    if AR>4:\r\n",
    "        return high_AR_a(AR, a_0, tr)\r\n",
    "    if AR <= 4 and AR > 0:\r\n",
    "        return low_AR_a(AR, a_0)\r\n",
    "\r\n",
    "a(5, 3, 1)"
   ],
   "outputs": [
    {
     "output_type": "execute_result",
     "data": {
      "text/plain": [
       "array([2.50406407])"
      ]
     },
     "metadata": {},
     "execution_count": 8
    }
   ],
   "metadata": {}
  }
 ],
 "metadata": {
  "orig_nbformat": 4,
  "language_info": {
   "name": "python",
   "version": "3.6.8",
   "mimetype": "text/x-python",
   "codemirror_mode": {
    "name": "ipython",
    "version": 3
   },
   "pygments_lexer": "ipython3",
   "nbconvert_exporter": "python",
   "file_extension": ".py"
  },
  "kernelspec": {
   "name": "python3",
   "display_name": "Python 3.6.8 64-bit ('Python36tensorflow': conda)"
  },
  "interpreter": {
   "hash": "d019251b4921a1cc3a3c97aa30605d4551da6d18440c1c3e577e0ffc2e4bc763"
  }
 },
 "nbformat": 4,
 "nbformat_minor": 2
}